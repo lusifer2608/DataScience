{
 "cells": [
  {
   "cell_type": "markdown",
   "id": "ea3be466-7b81-4ba0-b377-c923fc57185e",
   "metadata": {},
   "source": [
    "Ans-1: def Keyword is used to create a function"
   ]
  },
  {
   "cell_type": "code",
   "execution_count": 5,
   "id": "9a7d82fc-7861-4af7-a5da-63a1d9de83d7",
   "metadata": {},
   "outputs": [],
   "source": [
    "list1 = [i for i in range(1,26)]"
   ]
  },
  {
   "cell_type": "code",
   "execution_count": 7,
   "id": "3f159d26-d5ae-44d1-a2b8-b9d002893de3",
   "metadata": {},
   "outputs": [],
   "source": [
    "def odd_num(list1):\n",
    "    l=[]\n",
    "    for item in list1:\n",
    "        if item%2!=0:\n",
    "            l.append(item)\n",
    "        else:\n",
    "            continue\n",
    "    return l\n",
    "            "
   ]
  },
  {
   "cell_type": "code",
   "execution_count": 8,
   "id": "f9b3b49d-4abe-45be-b45d-2dc6cfb7edce",
   "metadata": {},
   "outputs": [
    {
     "data": {
      "text/plain": [
       "[1, 3, 5, 7, 9, 11, 13, 15, 17, 19, 21, 23, 25]"
      ]
     },
     "execution_count": 8,
     "metadata": {},
     "output_type": "execute_result"
    }
   ],
   "source": [
    "odd_num(list1)"
   ]
  },
  {
   "cell_type": "markdown",
   "id": "b9bf2008-c4bd-4ea7-af77-dcb76ebbc63c",
   "metadata": {},
   "source": [
    "Ans-2: *args is used to take value inputs without limit and **kwargs is used to take Key value pair inputs without limit."
   ]
  },
  {
   "cell_type": "code",
   "execution_count": 10,
   "id": "ca785d76-1935-4937-a3fa-5bdfe3556144",
   "metadata": {},
   "outputs": [],
   "source": [
    "#Function to demonstrate *args\n",
    "def num(*args):\n",
    "    l=[]\n",
    "    for item in args:\n",
    "        l.append(item)\n",
    "        \n",
    "    return l    "
   ]
  },
  {
   "cell_type": "code",
   "execution_count": 11,
   "id": "76648513-06ec-41cf-b693-7ef87741d4ca",
   "metadata": {},
   "outputs": [
    {
     "data": {
      "text/plain": [
       "[1, 2, 3, 45, 56, 655, 32, 2]"
      ]
     },
     "execution_count": 11,
     "metadata": {},
     "output_type": "execute_result"
    }
   ],
   "source": [
    "num(1,2,3,45,56,655,32,2)"
   ]
  },
  {
   "cell_type": "code",
   "execution_count": 43,
   "id": "52657b5d-4bb1-4f32-9c4f-f4e0603fff4b",
   "metadata": {},
   "outputs": [],
   "source": [
    "#Function to demonstrate **kwargs\n",
    "def test(**kwargs):\n",
    "    d={}\n",
    "    for item in kwargs.items():\n",
    "        if type(item[1])==int:\n",
    "            d.update([item])\n",
    "        else:\n",
    "            continue\n",
    "    return d "
   ]
  },
  {
   "cell_type": "code",
   "execution_count": 44,
   "id": "022a4f5b-78e1-43a9-9b0d-c4a0692b5eab",
   "metadata": {},
   "outputs": [
    {
     "data": {
      "text/plain": [
       "{'a': 1, 'b': 3, 'f': 345}"
      ]
     },
     "execution_count": 44,
     "metadata": {},
     "output_type": "execute_result"
    }
   ],
   "source": [
    "test(a=1,b=3,c='shubh',d=3.5,f=345)"
   ]
  },
  {
   "cell_type": "markdown",
   "id": "7433ba26-08c5-434e-9478-321296d0c12e",
   "metadata": {},
   "source": [
    "Ans-3: Iterator is an object that can traverse through all the values.\n",
    "_iter_() method is used to initialise the iterator object and _next_() method is used for iteration"
   ]
  },
  {
   "cell_type": "code",
   "execution_count": 45,
   "id": "e8ea2f3d-814f-4d7b-98ba-1d7d90c72ef3",
   "metadata": {},
   "outputs": [],
   "source": [
    "list2=[2,4,6,8,10,12,14,16,18,20]"
   ]
  },
  {
   "cell_type": "code",
   "execution_count": 46,
   "id": "186907d3-7df4-432d-bd68-df4b69c50a60",
   "metadata": {},
   "outputs": [
    {
     "name": "stdout",
     "output_type": "stream",
     "text": [
      "2\n",
      "4\n",
      "6\n",
      "8\n",
      "10\n"
     ]
    }
   ],
   "source": [
    "iterator = iter(list2)\n",
    "print(next(iterator))\n",
    "print(next(iterator))\n",
    "print(next(iterator))\n",
    "print(next(iterator))\n",
    "print(next(iterator))"
   ]
  },
  {
   "cell_type": "markdown",
   "id": "dd2a4754-8f77-4aeb-bad9-dfbf5ba24ef8",
   "metadata": {},
   "source": [
    "Ans-4: Generator function returns an iterator which gives sequence of values when iterate over.\n",
    "when yeild statement is call the fuction halts and generate the iterator object unlike return that returns a value"
   ]
  },
  {
   "cell_type": "code",
   "execution_count": 47,
   "id": "2f0702a1-147e-4e9c-86a7-39437985baa8",
   "metadata": {},
   "outputs": [],
   "source": [
    "#Example of generator function\n",
    "def gen(n):\n",
    "    for i in range(n):\n",
    "        yield i"
   ]
  },
  {
   "cell_type": "code",
   "execution_count": 51,
   "id": "1180e22c-5eeb-4199-9fcf-e735b53a8188",
   "metadata": {},
   "outputs": [
    {
     "data": {
      "text/plain": [
       "[0,\n",
       " 1,\n",
       " 2,\n",
       " 3,\n",
       " 4,\n",
       " 5,\n",
       " 6,\n",
       " 7,\n",
       " 8,\n",
       " 9,\n",
       " 10,\n",
       " 11,\n",
       " 12,\n",
       " 13,\n",
       " 14,\n",
       " 15,\n",
       " 16,\n",
       " 17,\n",
       " 18,\n",
       " 19,\n",
       " 20,\n",
       " 21,\n",
       " 22,\n",
       " 23,\n",
       " 24]"
      ]
     },
     "execution_count": 51,
     "metadata": {},
     "output_type": "execute_result"
    }
   ],
   "source": [
    "list3 = [i for i in gen(25)]\n",
    "list3"
   ]
  },
  {
   "cell_type": "code",
   "execution_count": 71,
   "id": "a38b11f5-dd55-4e32-a277-0c3b85f6bbe9",
   "metadata": {},
   "outputs": [],
   "source": [
    "# Answer - 5:\n",
    "def prime_number(n):\n",
    "    for num in range(2,n):\n",
    "        count=0\n",
    "        for i in range(2,num+1):\n",
    "            if num%i==0:\n",
    "                count=count+1\n",
    "            else:\n",
    "                continue\n",
    "        if count==1:\n",
    "            yield num\n"
   ]
  },
  {
   "cell_type": "code",
   "execution_count": 75,
   "id": "973adcbd-4626-4247-87c3-fca89c2081a0",
   "metadata": {},
   "outputs": [],
   "source": [
    "list5 = [i for i in prime_number(1000)]"
   ]
  },
  {
   "cell_type": "code",
   "execution_count": 77,
   "id": "e05ffc43-1712-4027-b282-b2730becc494",
   "metadata": {},
   "outputs": [
    {
     "name": "stdout",
     "output_type": "stream",
     "text": [
      "2\n",
      "3\n",
      "5\n",
      "7\n",
      "11\n",
      "13\n",
      "17\n",
      "19\n",
      "23\n",
      "29\n",
      "31\n",
      "37\n",
      "41\n",
      "43\n",
      "47\n",
      "53\n",
      "59\n",
      "61\n",
      "67\n",
      "71\n"
     ]
    }
   ],
   "source": [
    "iterate = iter(list5)\n",
    "for i in range(20):\n",
    "    print(next(iterate))"
   ]
  },
  {
   "cell_type": "code",
   "execution_count": null,
   "id": "a645b906-40fb-44dc-9d97-3a16b055f7b6",
   "metadata": {},
   "outputs": [],
   "source": []
  }
 ],
 "metadata": {
  "kernelspec": {
   "display_name": "Python 3 (ipykernel)",
   "language": "python",
   "name": "python3"
  },
  "language_info": {
   "codemirror_mode": {
    "name": "ipython",
    "version": 3
   },
   "file_extension": ".py",
   "mimetype": "text/x-python",
   "name": "python",
   "nbconvert_exporter": "python",
   "pygments_lexer": "ipython3",
   "version": "3.10.8"
  }
 },
 "nbformat": 4,
 "nbformat_minor": 5
}
