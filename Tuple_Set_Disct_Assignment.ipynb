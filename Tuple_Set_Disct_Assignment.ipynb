{
 "cells": [
  {
   "cell_type": "markdown",
   "id": "53fa06b2-ef4b-4186-ba8e-1fb97bc034d4",
   "metadata": {},
   "source": [
    "Ans-1:\n",
    "a)Tuples are indexed\n",
    "b)Tuples stores duplicate values\n",
    "c)Tuples are ordered\n",
    "d)Tuples are non changable.\n",
    "Yes, Tuples are immutable"
   ]
  },
  {
   "cell_type": "markdown",
   "id": "08f6eba8-c6f9-4744-8e92-8bf8a6f402fb",
   "metadata": {},
   "source": [
    "Ans-2: Tuples have two methods: a)Count b)Index"
   ]
  },
  {
   "cell_type": "code",
   "execution_count": 1,
   "id": "137e0b81-c5da-46ec-bb40-bbf2ece89173",
   "metadata": {},
   "outputs": [
    {
     "data": {
      "text/plain": [
       "3"
      ]
     },
     "execution_count": 1,
     "metadata": {},
     "output_type": "execute_result"
    }
   ],
   "source": [
    "#Count Example\n",
    "#This example count the number of occurance of 2 in tuple\n",
    "tuple1= (1,2,2,2,3,3,4)\n",
    "tuple1.count(2)"
   ]
  },
  {
   "cell_type": "code",
   "execution_count": 2,
   "id": "9e103190-1291-4aae-b0bf-868abb616d31",
   "metadata": {},
   "outputs": [
    {
     "data": {
      "text/plain": [
       "1"
      ]
     },
     "execution_count": 2,
     "metadata": {},
     "output_type": "execute_result"
    }
   ],
   "source": [
    "#Index Example\n",
    "#This example return the first index at which 2 occur in tuple\n",
    "tuple1.index(2)"
   ]
  },
  {
   "cell_type": "markdown",
   "id": "c6215760-f86c-4124-b184-50e975dcd2e7",
   "metadata": {},
   "source": [
    "Since tuples are immutable thats why it have only two in-built methods as compared to list"
   ]
  },
  {
   "cell_type": "markdown",
   "id": "c8d18b90-b172-4ab9-acdc-ded84e8c4980",
   "metadata": {},
   "source": [
    "Ans-3: Set and Dictionary are two collection datatype in python that do not allow duplicate items"
   ]
  },
  {
   "cell_type": "code",
   "execution_count": 3,
   "id": "ad59c017-0301-4ad1-920a-b98acb6b7fb1",
   "metadata": {},
   "outputs": [
    {
     "name": "stdout",
     "output_type": "stream",
     "text": [
      "{1, 2, 3, 4}\n"
     ]
    }
   ],
   "source": [
    "#Code to remove duplicate items from the list\n",
    "lst = [1,1,1,2,1,3,1,4,2,1,2,2,2,3,2,4,3,1,3,2,3,3,3,4,4,1,4,2,4,3,4,4]\n",
    "set1 = set(lst)\n",
    "print(set1)"
   ]
  },
  {
   "cell_type": "markdown",
   "id": "4fe2bab8-ff15-4447-a46f-58ebe4d1303f",
   "metadata": {},
   "source": [
    "Ans-4: Union is not an inplace operation unlike Update means in union operation original set will not get change but in update operation original set will get change."
   ]
  },
  {
   "cell_type": "code",
   "execution_count": 4,
   "id": "81e6784b-ed4d-443b-8cb6-25b47af60670",
   "metadata": {},
   "outputs": [],
   "source": [
    "set1 = {1,2,3,5,6}\n",
    "set2 = {4,8,9,10,7}"
   ]
  },
  {
   "cell_type": "code",
   "execution_count": 5,
   "id": "457a6932-96bd-4fbc-9b7c-454b2f9e00c2",
   "metadata": {},
   "outputs": [
    {
     "name": "stdout",
     "output_type": "stream",
     "text": [
      "{1, 2, 3, 4, 5, 6, 7, 8, 9, 10}\n"
     ]
    }
   ],
   "source": [
    "set3 = set1.union(set2)\n",
    "print(set3)"
   ]
  },
  {
   "cell_type": "code",
   "execution_count": 6,
   "id": "b55c61ce-cbb5-4824-a72f-44799811a1cf",
   "metadata": {},
   "outputs": [
    {
     "data": {
      "text/plain": [
       "{1, 2, 3, 5, 6}"
      ]
     },
     "execution_count": 6,
     "metadata": {},
     "output_type": "execute_result"
    }
   ],
   "source": [
    "# Here set1 not changed\n",
    "set1"
   ]
  },
  {
   "cell_type": "code",
   "execution_count": 7,
   "id": "f2e36684-c945-4c9e-8afc-12275c9c4584",
   "metadata": {},
   "outputs": [],
   "source": [
    "set1.update(set2)"
   ]
  },
  {
   "cell_type": "code",
   "execution_count": 8,
   "id": "198f5e50-92f3-41bf-b5d3-7515e74afd70",
   "metadata": {},
   "outputs": [
    {
     "data": {
      "text/plain": [
       "{1, 2, 3, 4, 5, 6, 7, 8, 9, 10}"
      ]
     },
     "execution_count": 8,
     "metadata": {},
     "output_type": "execute_result"
    }
   ],
   "source": [
    "# Here set1 changed\n",
    "set1"
   ]
  },
  {
   "cell_type": "markdown",
   "id": "f9f43b5e-d449-430c-823b-4dd865863302",
   "metadata": {},
   "source": [
    "Ans-5: Dictionary is a collection datatype in the form of Key-value pair.Dictionary enclosed in curly braces{}.\n",
    "Dictionary is ordered."
   ]
  },
  {
   "cell_type": "code",
   "execution_count": 12,
   "id": "e77dcc84-69c2-47e7-b3f0-1bad978c7714",
   "metadata": {},
   "outputs": [
    {
     "data": {
      "text/plain": [
       "{'name': 'Shubham', 'age': '24', 'email_id': 'shubham@gmail.com'}"
      ]
     },
     "execution_count": 12,
     "metadata": {},
     "output_type": "execute_result"
    }
   ],
   "source": [
    "#Example\n",
    "dict1 = {'name':'Shubham', 'age':'24', 'email_id':'shubham@gmail.com'}\n",
    "dict1"
   ]
  },
  {
   "cell_type": "markdown",
   "id": "23dae842-47b4-4ce9-a68f-d7b140e16896",
   "metadata": {},
   "source": [
    "Ans-6: Yes we can create a nested dictionary"
   ]
  },
  {
   "cell_type": "code",
   "execution_count": 13,
   "id": "793d04d4-fbc0-4d96-b511-767737986258",
   "metadata": {},
   "outputs": [],
   "source": [
    "#Example of nested dictionary\n",
    "dict2 = {'name':'Shubham', 'profession detail':{'Company_name': 'LohiaCorp', 'Employee_Code': 2344, 'Mobile_no':456877}}"
   ]
  },
  {
   "cell_type": "code",
   "execution_count": 14,
   "id": "7d63a83c-8874-4cc1-a723-59fa97a8a74b",
   "metadata": {},
   "outputs": [
    {
     "data": {
      "text/plain": [
       "{'name': 'Shubham',\n",
       " 'profession detail': {'Company_name': 'LohiaCorp',\n",
       "  'Employee_Code': 2344,\n",
       "  'Mobile_no': 456877}}"
      ]
     },
     "execution_count": 14,
     "metadata": {},
     "output_type": "execute_result"
    }
   ],
   "source": [
    "dict2"
   ]
  },
  {
   "cell_type": "markdown",
   "id": "0605538e-a867-47aa-8598-88f73d87dd44",
   "metadata": {},
   "source": [
    "Ans-7:"
   ]
  },
  {
   "cell_type": "code",
   "execution_count": 15,
   "id": "e0cf0546-7a1c-4ab5-a2dc-80bbc0eb80e3",
   "metadata": {},
   "outputs": [
    {
     "data": {
      "text/plain": [
       "{'language': 'Python', 'course': 'Data Science Masters'}"
      ]
     },
     "execution_count": 15,
     "metadata": {},
     "output_type": "execute_result"
    }
   ],
   "source": [
    "dict3 = {'language':'Python', 'course':'Data Science Masters'}\n",
    "dict3"
   ]
  },
  {
   "cell_type": "code",
   "execution_count": 20,
   "id": "92660987-c22d-4728-b6f0-e8763273a59f",
   "metadata": {},
   "outputs": [],
   "source": [
    "dict3.setdefault('topics')"
   ]
  },
  {
   "cell_type": "code",
   "execution_count": 21,
   "id": "72e839ee-7e82-4022-a6e8-783b4a8b5d9d",
   "metadata": {},
   "outputs": [
    {
     "data": {
      "text/plain": [
       "{'language': 'Python', 'course': 'Data Science Masters', 'topics': None}"
      ]
     },
     "execution_count": 21,
     "metadata": {},
     "output_type": "execute_result"
    }
   ],
   "source": [
    "dict3"
   ]
  },
  {
   "cell_type": "code",
   "execution_count": 22,
   "id": "faf8b193-1c17-477a-8c6b-69a0bcd6cb6b",
   "metadata": {},
   "outputs": [],
   "source": [
    "dict3['topics'] = ['Python', 'Machine Learning', 'Deep Learning']"
   ]
  },
  {
   "cell_type": "code",
   "execution_count": 23,
   "id": "e6d35bc1-04c8-4fb4-8c9b-3fe152899e14",
   "metadata": {},
   "outputs": [
    {
     "data": {
      "text/plain": [
       "{'language': 'Python',\n",
       " 'course': 'Data Science Masters',\n",
       " 'topics': ['Python', 'Machine Learning', 'Deep Learning']}"
      ]
     },
     "execution_count": 23,
     "metadata": {},
     "output_type": "execute_result"
    }
   ],
   "source": [
    "dict3"
   ]
  },
  {
   "cell_type": "markdown",
   "id": "a6ac6b17-4418-4010-9ebc-4f2e4d1fe7d3",
   "metadata": {},
   "source": [
    "Ans-8: Key, value and item are three view objects in dictionary."
   ]
  },
  {
   "cell_type": "code",
   "execution_count": 24,
   "id": "5bc563f5-f9c6-4087-a837-0533b05a6535",
   "metadata": {},
   "outputs": [],
   "source": [
    "dict4 = {'Sport':'Cricket', 'Teams':['India', 'Australia', 'England', 'South Africa', 'Sri Lanka', 'New Zealand']}"
   ]
  },
  {
   "cell_type": "code",
   "execution_count": 25,
   "id": "2cfe7979-9955-4f73-bea7-c0e0449929d2",
   "metadata": {},
   "outputs": [
    {
     "data": {
      "text/plain": [
       "{'Sport': 'Cricket',\n",
       " 'Teams': ['India',\n",
       "  'Australia',\n",
       "  'England',\n",
       "  'South Africa',\n",
       "  'Sri Lanka',\n",
       "  'New Zealand']}"
      ]
     },
     "execution_count": 25,
     "metadata": {},
     "output_type": "execute_result"
    }
   ],
   "source": [
    "dict4"
   ]
  },
  {
   "cell_type": "code",
   "execution_count": 26,
   "id": "e6b542cf-d8c7-4515-934a-02d989e1600c",
   "metadata": {},
   "outputs": [
    {
     "data": {
      "text/plain": [
       "dict_keys(['Sport', 'Teams'])"
      ]
     },
     "execution_count": 26,
     "metadata": {},
     "output_type": "execute_result"
    }
   ],
   "source": [
    "# In-Built function Keys\n",
    "dict4.keys()"
   ]
  },
  {
   "cell_type": "code",
   "execution_count": 27,
   "id": "d13d4a5c-7b21-4fa2-9829-f77780f96869",
   "metadata": {},
   "outputs": [
    {
     "data": {
      "text/plain": [
       "dict_values(['Cricket', ['India', 'Australia', 'England', 'South Africa', 'Sri Lanka', 'New Zealand']])"
      ]
     },
     "execution_count": 27,
     "metadata": {},
     "output_type": "execute_result"
    }
   ],
   "source": [
    "# In-Built function values\n",
    "dict4.values()"
   ]
  },
  {
   "cell_type": "code",
   "execution_count": 29,
   "id": "7b07cdc8-1a15-4611-ad80-3eedb0453098",
   "metadata": {},
   "outputs": [
    {
     "data": {
      "text/plain": [
       "dict_items([('Sport', 'Cricket'), ('Teams', ['India', 'Australia', 'England', 'South Africa', 'Sri Lanka', 'New Zealand'])])"
      ]
     },
     "execution_count": 29,
     "metadata": {},
     "output_type": "execute_result"
    }
   ],
   "source": [
    "# In-Built function item\n",
    "dict4.items()"
   ]
  },
  {
   "cell_type": "code",
   "execution_count": null,
   "id": "839806a4-e7b1-45fd-bdbc-f0bd1d9dce23",
   "metadata": {},
   "outputs": [],
   "source": []
  }
 ],
 "metadata": {
  "kernelspec": {
   "display_name": "Python 3 (ipykernel)",
   "language": "python",
   "name": "python3"
  },
  "language_info": {
   "codemirror_mode": {
    "name": "ipython",
    "version": 3
   },
   "file_extension": ".py",
   "mimetype": "text/x-python",
   "name": "python",
   "nbconvert_exporter": "python",
   "pygments_lexer": "ipython3",
   "version": "3.10.8"
  }
 },
 "nbformat": 4,
 "nbformat_minor": 5
}
