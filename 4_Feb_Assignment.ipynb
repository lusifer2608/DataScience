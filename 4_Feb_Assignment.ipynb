{
 "cells": [
  {
   "cell_type": "code",
   "execution_count": 37,
   "id": "2e1733a6-ac71-483e-9e59-43651164bc85",
   "metadata": {},
   "outputs": [
    {
     "data": {
      "text/plain": [
       "[('Virat Kohli', 24936),\n",
       " ('Jack Kallis', 25534),\n",
       " ('Ricky Ponting', 27483),\n",
       " ('Sachin Tendulkar', 34357)]"
      ]
     },
     "execution_count": 37,
     "metadata": {},
     "output_type": "execute_result"
    }
   ],
   "source": [
    "# Answer - 1:\n",
    "list0 = [('Sachin Tendulkar',34357),('Ricky Ponting',27483),('Jack Kallis',25534),('Virat Kohli',24936)]\n",
    "list0.sort(key = lambda x:x[1])\n",
    "list0"
   ]
  },
  {
   "cell_type": "code",
   "execution_count": 38,
   "id": "2d8bb518-0ddf-4025-ba53-3072d6593312",
   "metadata": {},
   "outputs": [
    {
     "data": {
      "text/plain": [
       "[1, 4, 9, 16, 25, 36, 49, 64, 81, 100]"
      ]
     },
     "execution_count": 38,
     "metadata": {},
     "output_type": "execute_result"
    }
   ],
   "source": [
    "# Answer - 2:\n",
    "list1 = [1,2,3,4,5,6,7,8,9,10]\n",
    "list2 = [i for i in map(lambda x : x**2,list1)]\n",
    "list2"
   ]
  },
  {
   "cell_type": "code",
   "execution_count": 39,
   "id": "55c7ec90-228e-4d14-9e50-5d0b935a0622",
   "metadata": {},
   "outputs": [
    {
     "name": "stdout",
     "output_type": "stream",
     "text": [
      "('1', '2', '3', '4', '5', '6', '7', '8', '9', '10')\n"
     ]
    }
   ],
   "source": [
    "# Answer - 3:\n",
    "list3 = [1,2,3,4,5,6,7,8,9,10]\n",
    "tuple1 = map(lambda x : str(x),list3)\n",
    "print(tuple(tuple1))"
   ]
  },
  {
   "cell_type": "code",
   "execution_count": 40,
   "id": "f3433728-fd04-4f1a-b15f-0abc7683174b",
   "metadata": {},
   "outputs": [
    {
     "name": "stdout",
     "output_type": "stream",
     "text": [
      "15511210043330985984000000\n"
     ]
    }
   ],
   "source": [
    "# Answer -4:\n",
    "import functools\n",
    "list4 = [i for i in range(1,26)]\n",
    "product = functools.reduce(lambda x,y:x*y, list4)\n",
    "print(product)"
   ]
  },
  {
   "cell_type": "code",
   "execution_count": 41,
   "id": "fcb6c73d-616f-42f2-aba4-2a76ceca9a15",
   "metadata": {},
   "outputs": [
    {
     "name": "stdout",
     "output_type": "stream",
     "text": [
      "[6, 60, 90, 120]\n"
     ]
    }
   ],
   "source": [
    "# Answer-5:\n",
    "list5 = [2,3,6,9,27,60,90,120,55,46]\n",
    "def func(n):\n",
    "    if n%2==0 and n%3==0:\n",
    "        return True\n",
    "list6 = filter(func,list5)\n",
    "print(list(list6))"
   ]
  },
  {
   "cell_type": "code",
   "execution_count": 42,
   "id": "610974c8-d931-400d-9c0c-db466716591c",
   "metadata": {},
   "outputs": [
    {
     "name": "stdout",
     "output_type": "stream",
     "text": [
      "['php', 'aba', 'radar', 'level']\n"
     ]
    }
   ],
   "source": [
    "# Answer - 6:\n",
    "list7 = ['python', 'php', 'aba', 'radar', 'level']\n",
    "\n",
    "list_palindromes = filter(lambda x: x == x[::-1] , list7)\n",
    "print(list(list_palindromes))"
   ]
  }
 ],
 "metadata": {
  "kernelspec": {
   "display_name": "Python 3 (ipykernel)",
   "language": "python",
   "name": "python3"
  },
  "language_info": {
   "codemirror_mode": {
    "name": "ipython",
    "version": 3
   },
   "file_extension": ".py",
   "mimetype": "text/x-python",
   "name": "python",
   "nbconvert_exporter": "python",
   "pygments_lexer": "ipython3",
   "version": "3.10.8"
  }
 },
 "nbformat": 4,
 "nbformat_minor": 5
}
