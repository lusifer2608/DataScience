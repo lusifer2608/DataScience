{
 "cells": [
  {
   "cell_type": "markdown",
   "id": "78c5ce5f-b3e4-457b-a1b5-4f9dfa375200",
   "metadata": {},
   "source": [
    "Answer - 1: Class is a blueprint for creating object and Object is a real world entity which is instance of class."
   ]
  },
  {
   "cell_type": "code",
   "execution_count": 17,
   "id": "b2fe5bb3-4d9c-4f4b-b713-a91710ae7e8b",
   "metadata": {},
   "outputs": [
    {
     "name": "stdout",
     "output_type": "stream",
     "text": [
      "This is student class\n"
     ]
    }
   ],
   "source": [
    "#Example\n",
    "class student:\n",
    "    def info(self):\n",
    "        print(\"This is student class\")\n",
    "        \n",
    "obj = student()\n",
    "obj.info()"
   ]
  },
  {
   "cell_type": "markdown",
   "id": "f15164da-7bcd-4aa0-a8e1-bf01aad516dc",
   "metadata": {},
   "source": [
    "Answer - 2: Four pillars of OOP's are: 1) Inheritance 2) Abstraction 3) Encapsulation and 4) Polymorphism"
   ]
  },
  {
   "cell_type": "markdown",
   "id": "84a412b4-d73e-4186-a97e-03573650c93c",
   "metadata": {},
   "source": [
    "Answer - 3 : __init__() function is used as constructor in class and it is called everytime object is created for a class."
   ]
  },
  {
   "cell_type": "code",
   "execution_count": 8,
   "id": "e2f0947c-c49b-4403-9a15-257d0300195e",
   "metadata": {},
   "outputs": [
    {
     "name": "stdout",
     "output_type": "stream",
     "text": [
      "The employee name is Shubham and its employee id is 2334\n"
     ]
    }
   ],
   "source": [
    "# Example\n",
    "class employee:\n",
    "    def __init__(self, name, emp_id):\n",
    "        self.employee_name = name\n",
    "        self.employee_id = emp_id\n",
    "        \n",
    "obj = employee('Shubham',2334)\n",
    "print(\"The employee name is {} and its employee id is {}\".format(obj.employee_name,obj.employee_id))\n",
    "    "
   ]
  },
  {
   "cell_type": "markdown",
   "id": "67f97782-5f35-4b5b-b6fc-b93eabfb387a",
   "metadata": {},
   "source": [
    "Answer - 4: Self is used in OOP's to represent instance of class.Self is used to refer instance attributes and method of a class."
   ]
  },
  {
   "cell_type": "markdown",
   "id": "6d9ee147-30d5-4f2a-adf3-8dd621c4f9f5",
   "metadata": {},
   "source": [
    "Answer - 5: Inheritance is a process of obtaining properties and characteristics of another class.The class which inherits from other class are called child class and the class from which behaviour is inherited is called parent class."
   ]
  },
  {
   "cell_type": "code",
   "execution_count": 9,
   "id": "43c9215b-0e6a-44ad-8987-255be98270f3",
   "metadata": {},
   "outputs": [
    {
     "name": "stdout",
     "output_type": "stream",
     "text": [
      "This function is defined in child class\n",
      "This function is defined in parent class\n",
      "This function is defined in parent class\n"
     ]
    }
   ],
   "source": [
    "# Single Inheritance : \n",
    "class parent:\n",
    "    def func_parent(self):\n",
    "        print(\"This function is defined in parent class\")\n",
    "    \n",
    "class child(parent):\n",
    "    def func_child(self):\n",
    "        print(\"This function is defined in child class\")\n",
    "        \n",
    "obj1 = child()\n",
    "obj2 = parent()\n",
    "obj1.func_child()\n",
    "obj1.func_parent()\n",
    "obj2.func_parent()\n",
    "    "
   ]
  },
  {
   "cell_type": "code",
   "execution_count": 10,
   "id": "f0a49665-5395-4fa3-a894-a37bd2da8341",
   "metadata": {},
   "outputs": [
    {
     "name": "stdout",
     "output_type": "stream",
     "text": [
      "This function is defined in child class\n",
      "This function is defined in parent class 2\n",
      "This function is defined in parent class 1\n",
      "This function is defined in parent class 1\n",
      "This function is defined in parent class 2\n"
     ]
    }
   ],
   "source": [
    "# Multiple Inheritance :\n",
    "class parent1:\n",
    "    def func_parent1(self):\n",
    "        print(\"This function is defined in parent class 1\")\n",
    "    \n",
    "class parent2:\n",
    "    def func_parent2(self):\n",
    "        print(\"This function is defined in parent class 2\")\n",
    "        \n",
    "class child(parent1,parent2):\n",
    "    def func_child(self):\n",
    "        print(\"This function is defined in child class\")\n",
    "        \n",
    "        \n",
    "obj1 = child()\n",
    "obj2 = parent1()\n",
    "obj3 = parent2()\n",
    "obj1.func_child()\n",
    "obj1.func_parent2()\n",
    "obj1.func_parent1()\n",
    "obj2.func_parent1()\n",
    "obj3.func_parent2()"
   ]
  },
  {
   "cell_type": "code",
   "execution_count": 11,
   "id": "c93044fc-dc3e-4b6f-8c29-1893feb9551d",
   "metadata": {},
   "outputs": [
    {
     "name": "stdout",
     "output_type": "stream",
     "text": [
      "This function is defined in child class 2\n",
      "This function is defined in child class 1\n",
      "This function is defined in parent class\n",
      "This function is defined in child class 1\n",
      "This function is defined in parent class\n",
      "This function is defined in parent class\n"
     ]
    }
   ],
   "source": [
    "# Multilevel Inheritance :\n",
    "class parent:\n",
    "    def func_parent(self):\n",
    "        print(\"This function is defined in parent class\")\n",
    "    \n",
    "class child1(parent):\n",
    "    def func_child1(self):\n",
    "        print(\"This function is defined in child class 1\")\n",
    "        \n",
    "class child2(child1):\n",
    "    def func_child2(self):\n",
    "        print(\"This function is defined in child class 2\")\n",
    "        \n",
    "obj1 = parent()\n",
    "obj2 = child1()\n",
    "obj3 = child2()\n",
    "obj3.func_child2()\n",
    "obj3.func_child1()\n",
    "obj3.func_parent()\n",
    "obj2.func_child1()\n",
    "obj2.func_parent()\n",
    "obj1.func_parent()     "
   ]
  },
  {
   "cell_type": "code",
   "execution_count": 12,
   "id": "41cde5eb-9e1f-4e7a-828e-914dd496925a",
   "metadata": {},
   "outputs": [
    {
     "name": "stdout",
     "output_type": "stream",
     "text": [
      "This function is defined in child class 2\n",
      "This function is defined in parent class\n",
      "This function is defined in child class 1\n",
      "This function is defined in parent class\n",
      "This function is defined in parent class\n"
     ]
    }
   ],
   "source": [
    "# Hirarchial Inheritance :\n",
    "class parent:\n",
    "    def func_parent(self):\n",
    "        print(\"This function is defined in parent class\")\n",
    "    \n",
    "class child1(parent):\n",
    "    def func_child1(self):\n",
    "        print(\"This function is defined in child class 1\")\n",
    "        \n",
    "class child2(parent):\n",
    "    def func_child2(self):\n",
    "        print(\"This function is defined in child class 2\")\n",
    "        \n",
    "obj1 = parent()\n",
    "obj2 = child1()\n",
    "obj3 = child2()\n",
    "obj3.func_child2()\n",
    "obj3.func_parent()\n",
    "obj2.func_child1()\n",
    "obj2.func_parent()\n",
    "obj1.func_parent()     "
   ]
  },
  {
   "cell_type": "code",
   "execution_count": 13,
   "id": "14f13515-a34b-4a31-a095-05e20ac6393f",
   "metadata": {},
   "outputs": [
    {
     "name": "stdout",
     "output_type": "stream",
     "text": [
      "This function is defined in child class 2\n",
      "This function is defined in child class 1\n",
      "This function is defined in parent class 2\n",
      "This function is defined in parent class 1\n",
      "This function is defined in child class 1\n",
      "This function is defined in parent class 2\n",
      "This function is defined in parent class 1\n",
      "This function is defined in parent class 2\n",
      "This function is defined in parent class 1\n"
     ]
    }
   ],
   "source": [
    "#Hybrid Inheritance :\n",
    "class parent1:\n",
    "    def func_parent1(self):\n",
    "        print(\"This function is defined in parent class 1\")\n",
    "    \n",
    "class parent2:\n",
    "    def func_parent2(self):\n",
    "        print(\"This function is defined in parent class 2\")\n",
    "        \n",
    "class child1(parent1,parent2):\n",
    "    def func_child1(self):\n",
    "        print(\"This function is defined in child class 1\")\n",
    "        \n",
    "class child2(child1):\n",
    "    def func_child2(self):\n",
    "        print(\"This function is defined in child class 2\")\n",
    "        \n",
    "obj1 = parent1()\n",
    "obj2 = parent2()\n",
    "obj3 = child1()\n",
    "obj4 = child2()\n",
    "obj4.func_child2()\n",
    "obj4.func_child1()\n",
    "obj4.func_parent2()\n",
    "obj4.func_parent1()\n",
    "obj3.func_child1()\n",
    "obj3.func_parent2()\n",
    "obj3.func_parent1()\n",
    "obj2.func_parent2()\n",
    "obj1.func_parent1()\n"
   ]
  },
  {
   "cell_type": "code",
   "execution_count": null,
   "id": "6128d7c7-55a8-403d-9a7a-1d9a0c34a551",
   "metadata": {},
   "outputs": [],
   "source": []
  }
 ],
 "metadata": {
  "kernelspec": {
   "display_name": "Python 3 (ipykernel)",
   "language": "python",
   "name": "python3"
  },
  "language_info": {
   "codemirror_mode": {
    "name": "ipython",
    "version": 3
   },
   "file_extension": ".py",
   "mimetype": "text/x-python",
   "name": "python",
   "nbconvert_exporter": "python",
   "pygments_lexer": "ipython3",
   "version": "3.10.8"
  }
 },
 "nbformat": 4,
 "nbformat_minor": 5
}
